{
 "cells": [
  {
   "cell_type": "markdown",
   "metadata": {
    "id": "QEdqaV17v40W"
   },
   "source": [
    "# STATISTICS MINI PROJECT"
   ]
  },
  {
   "cell_type": "code",
   "execution_count": null,
   "metadata": {
    "id": "yvkhatFdv40c"
   },
   "outputs": [],
   "source": [
    "import pandas as pd\n",
    "import numpy as np\n",
    "import scipy.stats as stats\n",
    "import seaborn as sns\n",
    "import random\n",
    "import matplotlib.pyplot as plt"
   ]
  },
  {
   "cell_type": "markdown",
   "metadata": {
    "id": "1ATEm-cfv40d"
   },
   "source": [
    "**1. Perform the following statistical analysis on the fifa world cup dataset given. The dataset includes player information which includes height, weight overall rating, potential etc.** \n",
    "\n",
    "a)\tAssuming age as population, perform central limit theorem with sample size of 200. Find the stand error and the mean of sampling distribution. Compare the results with population mean and standard deviation. Explain in non-technical terms why the estimated standard error of a sample mean tends to decrease with an increase in sample size\n",
    "\n",
    "b)\tIs there any evidence the players overall rating is greater than 80?\n",
    "\n",
    "c)\tPerform the statistical test to identify whether preferred foot has any impact on potential. Also, perform the graphical analysis.\n",
    "\n",
    "\n",
    "d)\tPerform the statistical test to identify the relation between the overall rating and potential. [Assume both are continuous data points].\n",
    "\n",
    "e)\tDoes skill move and week foot has any effect in overall rating. Perform the graphical analysis and the statistical analysis.\n",
    "\n",
    "Note:\n",
    "\n",
    "1) Perform all the Statistical analysis with 5%(Significance level). \n",
    "\n",
    "2) Perform the test of normality and test of variance in the appropriate places.\n"
   ]
  },
  {
   "cell_type": "code",
   "execution_count": null,
   "metadata": {
    "id": "68KhKQ2Rv40d",
    "outputId": "3b2c3c83-63a7-44ea-f337-9d1600ac38f4",
    "scrolled": true
   },
   "outputs": [
    {
     "data": {
      "text/html": [
       "<div>\n",
       "<style scoped>\n",
       "    .dataframe tbody tr th:only-of-type {\n",
       "        vertical-align: middle;\n",
       "    }\n",
       "\n",
       "    .dataframe tbody tr th {\n",
       "        vertical-align: top;\n",
       "    }\n",
       "\n",
       "    .dataframe thead th {\n",
       "        text-align: right;\n",
       "    }\n",
       "</style>\n",
       "<table border=\"1\" class=\"dataframe\">\n",
       "  <thead>\n",
       "    <tr style=\"text-align: right;\">\n",
       "      <th></th>\n",
       "      <th>Name</th>\n",
       "      <th>Age</th>\n",
       "      <th>Nationality</th>\n",
       "      <th>Overall_rating</th>\n",
       "      <th>Potential</th>\n",
       "      <th>Club</th>\n",
       "      <th>Preferred Foot</th>\n",
       "      <th>International Reputation</th>\n",
       "      <th>Weak Foot</th>\n",
       "      <th>Skill Moves</th>\n",
       "      <th>Work Rate</th>\n",
       "      <th>Position</th>\n",
       "      <th>Jersey Number</th>\n",
       "      <th>Height</th>\n",
       "      <th>Weight</th>\n",
       "    </tr>\n",
       "  </thead>\n",
       "  <tbody>\n",
       "    <tr>\n",
       "      <th>0</th>\n",
       "      <td>L. Messi</td>\n",
       "      <td>31</td>\n",
       "      <td>Argentina</td>\n",
       "      <td>94</td>\n",
       "      <td>94</td>\n",
       "      <td>FC Barcelona</td>\n",
       "      <td>Left</td>\n",
       "      <td>5</td>\n",
       "      <td>4</td>\n",
       "      <td>4</td>\n",
       "      <td>Medium/ Medium</td>\n",
       "      <td>RF</td>\n",
       "      <td>10</td>\n",
       "      <td>5.583333</td>\n",
       "      <td>159</td>\n",
       "    </tr>\n",
       "    <tr>\n",
       "      <th>1</th>\n",
       "      <td>Cristiano Ronaldo</td>\n",
       "      <td>33</td>\n",
       "      <td>Portugal</td>\n",
       "      <td>94</td>\n",
       "      <td>94</td>\n",
       "      <td>Juventus</td>\n",
       "      <td>Right</td>\n",
       "      <td>5</td>\n",
       "      <td>4</td>\n",
       "      <td>5</td>\n",
       "      <td>High/ Low</td>\n",
       "      <td>ST</td>\n",
       "      <td>7</td>\n",
       "      <td>6.166667</td>\n",
       "      <td>183</td>\n",
       "    </tr>\n",
       "    <tr>\n",
       "      <th>2</th>\n",
       "      <td>Neymar Jr</td>\n",
       "      <td>26</td>\n",
       "      <td>Brazil</td>\n",
       "      <td>92</td>\n",
       "      <td>93</td>\n",
       "      <td>Paris Saint-Germain</td>\n",
       "      <td>Right</td>\n",
       "      <td>5</td>\n",
       "      <td>5</td>\n",
       "      <td>5</td>\n",
       "      <td>High/ Medium</td>\n",
       "      <td>LW</td>\n",
       "      <td>10</td>\n",
       "      <td>5.750000</td>\n",
       "      <td>150</td>\n",
       "    </tr>\n",
       "    <tr>\n",
       "      <th>3</th>\n",
       "      <td>De Gea</td>\n",
       "      <td>27</td>\n",
       "      <td>Spain</td>\n",
       "      <td>91</td>\n",
       "      <td>93</td>\n",
       "      <td>Manchester United</td>\n",
       "      <td>Right</td>\n",
       "      <td>4</td>\n",
       "      <td>3</td>\n",
       "      <td>1</td>\n",
       "      <td>Medium/ Medium</td>\n",
       "      <td>GK</td>\n",
       "      <td>1</td>\n",
       "      <td>6.333333</td>\n",
       "      <td>168</td>\n",
       "    </tr>\n",
       "    <tr>\n",
       "      <th>4</th>\n",
       "      <td>K. De Bruyne</td>\n",
       "      <td>27</td>\n",
       "      <td>Belgium</td>\n",
       "      <td>91</td>\n",
       "      <td>92</td>\n",
       "      <td>Manchester City</td>\n",
       "      <td>Right</td>\n",
       "      <td>4</td>\n",
       "      <td>5</td>\n",
       "      <td>4</td>\n",
       "      <td>High/ High</td>\n",
       "      <td>RCM</td>\n",
       "      <td>7</td>\n",
       "      <td>5.083333</td>\n",
       "      <td>154</td>\n",
       "    </tr>\n",
       "  </tbody>\n",
       "</table>\n",
       "</div>"
      ],
      "text/plain": [
       "                Name  Age Nationality  Overall_rating  Potential  \\\n",
       "0           L. Messi   31   Argentina              94         94   \n",
       "1  Cristiano Ronaldo   33    Portugal              94         94   \n",
       "2          Neymar Jr   26      Brazil              92         93   \n",
       "3             De Gea   27       Spain              91         93   \n",
       "4       K. De Bruyne   27     Belgium              91         92   \n",
       "\n",
       "                  Club Preferred Foot  International Reputation  Weak Foot  \\\n",
       "0         FC Barcelona           Left                         5          4   \n",
       "1             Juventus          Right                         5          4   \n",
       "2  Paris Saint-Germain          Right                         5          5   \n",
       "3    Manchester United          Right                         4          3   \n",
       "4      Manchester City          Right                         4          5   \n",
       "\n",
       "   Skill Moves       Work Rate Position  Jersey Number    Height  Weight  \n",
       "0            4  Medium/ Medium       RF             10  5.583333     159  \n",
       "1            5       High/ Low       ST              7  6.166667     183  \n",
       "2            5    High/ Medium       LW             10  5.750000     150  \n",
       "3            1  Medium/ Medium       GK              1  6.333333     168  \n",
       "4            4      High/ High      RCM              7  5.083333     154  "
      ]
     },
     "execution_count": 2,
     "metadata": {
      "tags": []
     },
     "output_type": "execute_result"
    }
   ],
   "source": [
    "fifa=pd.read_csv('fifa_stats.csv')\n",
    "fifa.head()"
   ]
  },
  {
   "cell_type": "markdown",
   "metadata": {
    "id": "3HRSLbYev40e"
   },
   "source": [
    "### Description About the Dataset"
   ]
  },
  {
   "cell_type": "code",
   "execution_count": null,
   "metadata": {
    "id": "9PfTDVPjv40f",
    "outputId": "6fcdadeb-5e65-4b07-c678-918d6a3fb48e"
   },
   "outputs": [
    {
     "name": "stdout",
     "output_type": "stream",
     "text": [
      "<class 'pandas.core.frame.DataFrame'>\n",
      "RangeIndex: 2000 entries, 0 to 1999\n",
      "Data columns (total 15 columns):\n",
      "Name                        2000 non-null object\n",
      "Age                         2000 non-null int64\n",
      "Nationality                 2000 non-null object\n",
      "Overall_rating              2000 non-null int64\n",
      "Potential                   2000 non-null int64\n",
      "Club                        1981 non-null object\n",
      "Preferred Foot              2000 non-null object\n",
      "International Reputation    2000 non-null int64\n",
      "Weak Foot                   2000 non-null int64\n",
      "Skill Moves                 2000 non-null int64\n",
      "Work Rate                   2000 non-null object\n",
      "Position                    2000 non-null object\n",
      "Jersey Number               2000 non-null int64\n",
      "Height                      2000 non-null float64\n",
      "Weight                      2000 non-null int64\n",
      "dtypes: float64(1), int64(8), object(6)\n",
      "memory usage: 234.5+ KB\n"
     ]
    }
   ],
   "source": [
    "fifa.info()"
   ]
  },
  {
   "cell_type": "code",
   "execution_count": null,
   "metadata": {
    "id": "-V9PfV6Qv40f",
    "outputId": "c46d0c31-d409-4aa7-88ad-a2cc91213682",
    "scrolled": true
   },
   "outputs": [
    {
     "data": {
      "text/html": [
       "<div>\n",
       "<style scoped>\n",
       "    .dataframe tbody tr th:only-of-type {\n",
       "        vertical-align: middle;\n",
       "    }\n",
       "\n",
       "    .dataframe tbody tr th {\n",
       "        vertical-align: top;\n",
       "    }\n",
       "\n",
       "    .dataframe thead th {\n",
       "        text-align: right;\n",
       "    }\n",
       "</style>\n",
       "<table border=\"1\" class=\"dataframe\">\n",
       "  <thead>\n",
       "    <tr style=\"text-align: right;\">\n",
       "      <th></th>\n",
       "      <th>Name</th>\n",
       "      <th>Age</th>\n",
       "      <th>Nationality</th>\n",
       "      <th>Overall_rating</th>\n",
       "      <th>Potential</th>\n",
       "      <th>Club</th>\n",
       "      <th>Preferred Foot</th>\n",
       "      <th>International Reputation</th>\n",
       "      <th>Weak Foot</th>\n",
       "      <th>Skill Moves</th>\n",
       "      <th>Work Rate</th>\n",
       "      <th>Position</th>\n",
       "      <th>Jersey Number</th>\n",
       "      <th>Height</th>\n",
       "      <th>Weight</th>\n",
       "    </tr>\n",
       "  </thead>\n",
       "  <tbody>\n",
       "    <tr>\n",
       "      <th>count</th>\n",
       "      <td>2000</td>\n",
       "      <td>2000.000000</td>\n",
       "      <td>2000</td>\n",
       "      <td>2000.000000</td>\n",
       "      <td>2000.000000</td>\n",
       "      <td>1981</td>\n",
       "      <td>2000</td>\n",
       "      <td>2000.000000</td>\n",
       "      <td>2000.000000</td>\n",
       "      <td>2000.000000</td>\n",
       "      <td>2000</td>\n",
       "      <td>2000</td>\n",
       "      <td>2000.000000</td>\n",
       "      <td>2000.000000</td>\n",
       "      <td>2000.000000</td>\n",
       "    </tr>\n",
       "    <tr>\n",
       "      <th>unique</th>\n",
       "      <td>1970</td>\n",
       "      <td>NaN</td>\n",
       "      <td>95</td>\n",
       "      <td>NaN</td>\n",
       "      <td>NaN</td>\n",
       "      <td>285</td>\n",
       "      <td>2</td>\n",
       "      <td>NaN</td>\n",
       "      <td>NaN</td>\n",
       "      <td>NaN</td>\n",
       "      <td>8</td>\n",
       "      <td>27</td>\n",
       "      <td>NaN</td>\n",
       "      <td>NaN</td>\n",
       "      <td>NaN</td>\n",
       "    </tr>\n",
       "    <tr>\n",
       "      <th>top</th>\n",
       "      <td>Danilo</td>\n",
       "      <td>NaN</td>\n",
       "      <td>Spain</td>\n",
       "      <td>NaN</td>\n",
       "      <td>NaN</td>\n",
       "      <td>Chelsea</td>\n",
       "      <td>Right</td>\n",
       "      <td>NaN</td>\n",
       "      <td>NaN</td>\n",
       "      <td>NaN</td>\n",
       "      <td>Medium/ Medium</td>\n",
       "      <td>GK</td>\n",
       "      <td>NaN</td>\n",
       "      <td>NaN</td>\n",
       "      <td>NaN</td>\n",
       "    </tr>\n",
       "    <tr>\n",
       "      <th>freq</th>\n",
       "      <td>3</td>\n",
       "      <td>NaN</td>\n",
       "      <td>251</td>\n",
       "      <td>NaN</td>\n",
       "      <td>NaN</td>\n",
       "      <td>24</td>\n",
       "      <td>1534</td>\n",
       "      <td>NaN</td>\n",
       "      <td>NaN</td>\n",
       "      <td>NaN</td>\n",
       "      <td>733</td>\n",
       "      <td>194</td>\n",
       "      <td>NaN</td>\n",
       "      <td>NaN</td>\n",
       "      <td>NaN</td>\n",
       "    </tr>\n",
       "    <tr>\n",
       "      <th>mean</th>\n",
       "      <td>NaN</td>\n",
       "      <td>27.231500</td>\n",
       "      <td>NaN</td>\n",
       "      <td>78.197000</td>\n",
       "      <td>80.303500</td>\n",
       "      <td>NaN</td>\n",
       "      <td>NaN</td>\n",
       "      <td>1.774500</td>\n",
       "      <td>3.204000</td>\n",
       "      <td>2.919500</td>\n",
       "      <td>NaN</td>\n",
       "      <td>NaN</td>\n",
       "      <td>15.205500</td>\n",
       "      <td>5.781042</td>\n",
       "      <td>169.478000</td>\n",
       "    </tr>\n",
       "    <tr>\n",
       "      <th>std</th>\n",
       "      <td>NaN</td>\n",
       "      <td>3.859061</td>\n",
       "      <td>NaN</td>\n",
       "      <td>3.285969</td>\n",
       "      <td>4.114104</td>\n",
       "      <td>NaN</td>\n",
       "      <td>NaN</td>\n",
       "      <td>0.811775</td>\n",
       "      <td>0.728457</td>\n",
       "      <td>0.964098</td>\n",
       "      <td>NaN</td>\n",
       "      <td>NaN</td>\n",
       "      <td>13.210508</td>\n",
       "      <td>0.443337</td>\n",
       "      <td>16.050306</td>\n",
       "    </tr>\n",
       "    <tr>\n",
       "      <th>min</th>\n",
       "      <td>NaN</td>\n",
       "      <td>17.000000</td>\n",
       "      <td>NaN</td>\n",
       "      <td>75.000000</td>\n",
       "      <td>75.000000</td>\n",
       "      <td>NaN</td>\n",
       "      <td>NaN</td>\n",
       "      <td>1.000000</td>\n",
       "      <td>1.000000</td>\n",
       "      <td>1.000000</td>\n",
       "      <td>NaN</td>\n",
       "      <td>NaN</td>\n",
       "      <td>1.000000</td>\n",
       "      <td>5.083333</td>\n",
       "      <td>123.000000</td>\n",
       "    </tr>\n",
       "    <tr>\n",
       "      <th>25%</th>\n",
       "      <td>NaN</td>\n",
       "      <td>24.000000</td>\n",
       "      <td>NaN</td>\n",
       "      <td>76.000000</td>\n",
       "      <td>77.000000</td>\n",
       "      <td>NaN</td>\n",
       "      <td>NaN</td>\n",
       "      <td>1.000000</td>\n",
       "      <td>3.000000</td>\n",
       "      <td>2.000000</td>\n",
       "      <td>NaN</td>\n",
       "      <td>NaN</td>\n",
       "      <td>7.000000</td>\n",
       "      <td>5.500000</td>\n",
       "      <td>159.000000</td>\n",
       "    </tr>\n",
       "    <tr>\n",
       "      <th>50%</th>\n",
       "      <td>NaN</td>\n",
       "      <td>27.000000</td>\n",
       "      <td>NaN</td>\n",
       "      <td>77.000000</td>\n",
       "      <td>80.000000</td>\n",
       "      <td>NaN</td>\n",
       "      <td>NaN</td>\n",
       "      <td>2.000000</td>\n",
       "      <td>3.000000</td>\n",
       "      <td>3.000000</td>\n",
       "      <td>NaN</td>\n",
       "      <td>NaN</td>\n",
       "      <td>12.000000</td>\n",
       "      <td>6.000000</td>\n",
       "      <td>170.000000</td>\n",
       "    </tr>\n",
       "    <tr>\n",
       "      <th>75%</th>\n",
       "      <td>NaN</td>\n",
       "      <td>30.000000</td>\n",
       "      <td>NaN</td>\n",
       "      <td>80.000000</td>\n",
       "      <td>83.000000</td>\n",
       "      <td>NaN</td>\n",
       "      <td>NaN</td>\n",
       "      <td>2.000000</td>\n",
       "      <td>4.000000</td>\n",
       "      <td>4.000000</td>\n",
       "      <td>NaN</td>\n",
       "      <td>NaN</td>\n",
       "      <td>20.000000</td>\n",
       "      <td>6.166667</td>\n",
       "      <td>181.000000</td>\n",
       "    </tr>\n",
       "    <tr>\n",
       "      <th>max</th>\n",
       "      <td>NaN</td>\n",
       "      <td>41.000000</td>\n",
       "      <td>NaN</td>\n",
       "      <td>94.000000</td>\n",
       "      <td>95.000000</td>\n",
       "      <td>NaN</td>\n",
       "      <td>NaN</td>\n",
       "      <td>5.000000</td>\n",
       "      <td>5.000000</td>\n",
       "      <td>5.000000</td>\n",
       "      <td>NaN</td>\n",
       "      <td>NaN</td>\n",
       "      <td>99.000000</td>\n",
       "      <td>6.583333</td>\n",
       "      <td>227.000000</td>\n",
       "    </tr>\n",
       "  </tbody>\n",
       "</table>\n",
       "</div>"
      ],
      "text/plain": [
       "          Name          Age Nationality  Overall_rating    Potential     Club  \\\n",
       "count     2000  2000.000000        2000     2000.000000  2000.000000     1981   \n",
       "unique    1970          NaN          95             NaN          NaN      285   \n",
       "top     Danilo          NaN       Spain             NaN          NaN  Chelsea   \n",
       "freq         3          NaN         251             NaN          NaN       24   \n",
       "mean       NaN    27.231500         NaN       78.197000    80.303500      NaN   \n",
       "std        NaN     3.859061         NaN        3.285969     4.114104      NaN   \n",
       "min        NaN    17.000000         NaN       75.000000    75.000000      NaN   \n",
       "25%        NaN    24.000000         NaN       76.000000    77.000000      NaN   \n",
       "50%        NaN    27.000000         NaN       77.000000    80.000000      NaN   \n",
       "75%        NaN    30.000000         NaN       80.000000    83.000000      NaN   \n",
       "max        NaN    41.000000         NaN       94.000000    95.000000      NaN   \n",
       "\n",
       "       Preferred Foot  International Reputation    Weak Foot  Skill Moves  \\\n",
       "count            2000               2000.000000  2000.000000  2000.000000   \n",
       "unique              2                       NaN          NaN          NaN   \n",
       "top             Right                       NaN          NaN          NaN   \n",
       "freq             1534                       NaN          NaN          NaN   \n",
       "mean              NaN                  1.774500     3.204000     2.919500   \n",
       "std               NaN                  0.811775     0.728457     0.964098   \n",
       "min               NaN                  1.000000     1.000000     1.000000   \n",
       "25%               NaN                  1.000000     3.000000     2.000000   \n",
       "50%               NaN                  2.000000     3.000000     3.000000   \n",
       "75%               NaN                  2.000000     4.000000     4.000000   \n",
       "max               NaN                  5.000000     5.000000     5.000000   \n",
       "\n",
       "             Work Rate Position  Jersey Number       Height       Weight  \n",
       "count             2000     2000    2000.000000  2000.000000  2000.000000  \n",
       "unique               8       27            NaN          NaN          NaN  \n",
       "top     Medium/ Medium       GK            NaN          NaN          NaN  \n",
       "freq               733      194            NaN          NaN          NaN  \n",
       "mean               NaN      NaN      15.205500     5.781042   169.478000  \n",
       "std                NaN      NaN      13.210508     0.443337    16.050306  \n",
       "min                NaN      NaN       1.000000     5.083333   123.000000  \n",
       "25%                NaN      NaN       7.000000     5.500000   159.000000  \n",
       "50%                NaN      NaN      12.000000     6.000000   170.000000  \n",
       "75%                NaN      NaN      20.000000     6.166667   181.000000  \n",
       "max                NaN      NaN      99.000000     6.583333   227.000000  "
      ]
     },
     "execution_count": 4,
     "metadata": {
      "tags": []
     },
     "output_type": "execute_result"
    }
   ],
   "source": [
    "fifa.describe(include='all')"
   ]
  },
  {
   "cell_type": "markdown",
   "metadata": {
    "id": "XzeiSjehv40f"
   },
   "source": [
    "### Handling Null Values"
   ]
  },
  {
   "cell_type": "code",
   "execution_count": null,
   "metadata": {
    "id": "VO8Q2wA7v40f",
    "outputId": "9d2e2fb2-ad9e-4f02-ff5a-d5bbe0e188d3"
   },
   "outputs": [
    {
     "data": {
      "text/plain": [
       "Name                         0\n",
       "Age                          0\n",
       "Nationality                  0\n",
       "Overall_rating               0\n",
       "Potential                    0\n",
       "Club                        19\n",
       "Preferred Foot               0\n",
       "International Reputation     0\n",
       "Weak Foot                    0\n",
       "Skill Moves                  0\n",
       "Work Rate                    0\n",
       "Position                     0\n",
       "Jersey Number                0\n",
       "Height                       0\n",
       "Weight                       0\n",
       "dtype: int64"
      ]
     },
     "execution_count": 5,
     "metadata": {
      "tags": []
     },
     "output_type": "execute_result"
    }
   ],
   "source": [
    "# null values\n",
    "fifa.isna().sum() "
   ]
  },
  {
   "cell_type": "code",
   "execution_count": null,
   "metadata": {
    "id": "FzX-aa1Ev40g"
   },
   "outputs": [],
   "source": [
    "# 19 Records of Club are null values."
   ]
  },
  {
   "cell_type": "code",
   "execution_count": null,
   "metadata": {
    "id": "ku9eVtKiv40g",
    "outputId": "67314c22-226d-4ef1-ac7a-c9681cb52be5"
   },
   "outputs": [
    {
     "data": {
      "text/plain": [
       "Chelsea                  24\n",
       "Manchester United        23\n",
       "Liverpool                23\n",
       "Napoli                   23\n",
       "Borussia Dortmund        23\n",
       "                         ..\n",
       "Granada CF                1\n",
       "Universidad CatÃ³lica     1\n",
       "Urawa Red Diamonds        1\n",
       "Rosario Central           1\n",
       "Kawasaki Frontale         1\n",
       "Name: Club, Length: 285, dtype: int64"
      ]
     },
     "execution_count": 7,
     "metadata": {
      "tags": []
     },
     "output_type": "execute_result"
    }
   ],
   "source": [
    "# Distribution of Club\n",
    "fifa['Club'].value_counts() "
   ]
  },
  {
   "cell_type": "code",
   "execution_count": null,
   "metadata": {
    "id": "hyalhZA-v40g"
   },
   "outputs": [],
   "source": [
    " # Replacing with mode values\n",
    "fifa['Club'].fillna('Chelsea',inplace=True)"
   ]
  },
  {
   "cell_type": "code",
   "execution_count": null,
   "metadata": {
    "id": "3R5MjQLav40g",
    "outputId": "fd2a305e-d952-42c2-d204-ca92f14ecb6e"
   },
   "outputs": [
    {
     "data": {
      "text/plain": [
       "Name                        0\n",
       "Age                         0\n",
       "Nationality                 0\n",
       "Overall_rating              0\n",
       "Potential                   0\n",
       "Club                        0\n",
       "Preferred Foot              0\n",
       "International Reputation    0\n",
       "Weak Foot                   0\n",
       "Skill Moves                 0\n",
       "Work Rate                   0\n",
       "Position                    0\n",
       "Jersey Number               0\n",
       "Height                      0\n",
       "Weight                      0\n",
       "dtype: int64"
      ]
     },
     "execution_count": 9,
     "metadata": {
      "tags": []
     },
     "output_type": "execute_result"
    }
   ],
   "source": [
    "# checking null values after imputing/\n",
    "fifa.isna().sum()"
   ]
  },
  {
   "cell_type": "markdown",
   "metadata": {
    "id": "m376Jwlnv40h"
   },
   "source": [
    "**a) Assuming age as population, perform central limit theorem with sample size of 200. Find the stand error and the mean of sampling distribution. Compare the results with population mean and standard deviation. Explain in non-technical terms why the estimated standard error of a sample mean tends to decrease with an increase in sample size**\n",
    "\n",
    "\n",
    "\n"
   ]
  },
  {
   "cell_type": "markdown",
   "metadata": {
    "id": "2gU_Z97Bv40h"
   },
   "source": [
    "### Analysis of Population Data:"
   ]
  },
  {
   "cell_type": "code",
   "execution_count": null,
   "metadata": {
    "id": "h_9GZaB-v40h",
    "outputId": "c35feeb4-6f37-44ad-a41c-d6bed18fedb0",
    "scrolled": true
   },
   "outputs": [
    {
     "data": {
      "text/plain": [
       "<AxesSubplot:xlabel='Age'>"
      ]
     },
     "execution_count": 10,
     "metadata": {
      "tags": []
     },
     "output_type": "execute_result"
    },
    {
     "data": {
      "image/png": "[encoded data removed]",
      "text/plain": [
       "<Figure size 432x288 with 1 Axes>"
      ]
     },
     "metadata": {
      "needs_background": "light",
      "tags": []
     },
     "output_type": "display_data"
    }
   ],
   "source": [
    "sns.distplot(fifa['Age'])"
   ]
  },
  {
   "cell_type": "code",
   "execution_count": null,
   "metadata": {
    "id": "IWI1UHz_v40h",
    "outputId": "64fe556e-7519-49b9-c3a8-066e567cd34a"
   },
   "outputs": [
    {
     "name": "stdout",
     "output_type": "stream",
     "text": [
      "Test Statistic: 0.9883174300193787\n",
      "p_value: 1.1409696104580647e-11\n"
     ]
    }
   ],
   "source": [
    "# Test of Normality\n",
    "\n",
    "# Ho: Data is not normal\n",
    "# Ha : Data is normal\n",
    "\n",
    "print('Test Statistic:',stats.shapiro(fifa['Age'])[0])\n",
    "print('p_value:',stats.shapiro(fifa['Age'])[1])"
   ]
  },
  {
   "cell_type": "code",
   "execution_count": null,
   "metadata": {
    "id": "n6MOh-dTv40i"
   },
   "outputs": [],
   "source": [
    "# Since p_value < 0.05(5% Significance level). Null Hypothesis is rejected i.e Alternate Hypothesis \n",
    "# is selected. \n",
    "\n",
    "# Inference: Data is not normal."
   ]
  },
  {
   "cell_type": "markdown",
   "metadata": {
    "id": "ViM4c6tNv40i"
   },
   "source": [
    "### Performing Central Limit Theroem:"
   ]
  },
  {
   "cell_type": "markdown",
   "metadata": {
    "id": "JBno5qsHv40i"
   },
   "source": [
    "**Statement:** The study of probability theory, the central limit theorem (CLT) states that the distribution of sample approximates a normal distribution (also known as a “bell curve”) as the sample size becomes larger, assuming that all samples are identical in size, and regardless of the population distribution shape."
   ]
  },
  {
   "cell_type": "code",
   "execution_count": null,
   "metadata": {
    "id": "yv3wQa9jv40i"
   },
   "outputs": [],
   "source": [
    "pop = fifa['Age']"
   ]
  },
  {
   "cell_type": "code",
   "execution_count": null,
   "metadata": {
    "id": "xXPlMQDbv40i"
   },
   "outputs": [],
   "source": [
    "sample_mean=[]\n",
    "sample_size=200\n",
    "for i in range(50):\n",
    "    sample=[]\n",
    "    for i in range(sample_size):\n",
    "        sample.append(random.choice(pop))\n",
    "    sample_mean.append(np.mean(sample))"
   ]
  },
  {
   "cell_type": "code",
   "execution_count": null,
   "metadata": {
    "id": "fz2uB2Jxv40j",
    "outputId": "69cffa9f-bb9b-4b0f-8161-a5ac77f258b2"
   },
   "outputs": [
    {
     "data": {
      "text/plain": [
       "<AxesSubplot:>"
      ]
     },
     "execution_count": 15,
     "metadata": {
      "tags": []
     },
     "output_type": "execute_result"
    },
    {
     "data": {
      "image/png": "[encoded data removed]",
      "text/plain": [
       "<Figure size 432x288 with 1 Axes>"
      ]
     },
     "metadata": {
      "needs_background": "light",
      "tags": []
     },
     "output_type": "display_data"
    }
   ],
   "source": [
    "sns.distplot(sample_mean)"
   ]
  },
  {
   "cell_type": "code",
   "execution_count": null,
   "metadata": {
    "id": "rYRrZu7Mv40j",
    "outputId": "abf9319e-4ee3-4abf-8806-a14957431c79"
   },
   "outputs": [
    {
     "name": "stdout",
     "output_type": "stream",
     "text": [
      "Test Statistic: 0.9669615626335144\n",
      "p_value: 0.17365306615829468\n"
     ]
    }
   ],
   "source": [
    "# Test of Normality \n",
    "\n",
    "# Ho: Data is not normal\n",
    "# Ha : Data is normal\n",
    "\n",
    "print('Test Statistic:',stats.shapiro(sample_mean)[0])\n",
    "print('p_value:',stats.shapiro(sample_mean)[1])"
   ]
  },
  {
   "cell_type": "code",
   "execution_count": null,
   "metadata": {
    "id": "P5JbOtg5v40j"
   },
   "outputs": [],
   "source": [
    "# Since p_value > 0.05(5% Significance level). Null Hypothesis is selected i.e Alternate Hypothesis \n",
    "# is not selected. \n",
    "\n",
    "# Inference: Data is normal."
   ]
  },
  {
   "cell_type": "markdown",
   "metadata": {
    "id": "3vfXPISEv40j"
   },
   "source": [
    "### Standard Error "
   ]
  },
  {
   "cell_type": "code",
   "execution_count": null,
   "metadata": {
    "id": "tXPyBvhEv40j",
    "outputId": "82052e44-25ce-430d-8b97-77a50027f2d7"
   },
   "outputs": [
    {
     "name": "stdout",
     "output_type": "stream",
     "text": [
      "Stand error : 0.2679570114775875\n"
     ]
    }
   ],
   "source": [
    "print('Standard error(Standard Deviation of Sampling Distribution) :',np.std(sample_mean))"
   ]
  },
  {
   "cell_type": "markdown",
   "metadata": {
    "id": "WfpxwbQpv40k"
   },
   "source": [
    "### Interpreting the Sampling distribution and Population statistics"
   ]
  },
  {
   "cell_type": "markdown",
   "metadata": {
    "id": "5uYMkj-uv40k"
   },
   "source": [
    "As per CLT, \n",
    "\n",
    "**Standard error(Standard deviation of Sampling distrbution) ≈ Population Standard Deviation/sqrt(sample size)**\n",
    "\n",
    "**Sampling Distribution mean ≈ Population Mean**\n",
    "\n",
    "\n",
    "\n",
    "                                                             "
   ]
  },
  {
   "cell_type": "code",
   "execution_count": null,
   "metadata": {
    "id": "V70ekAY5v40k",
    "outputId": "20d79df7-fdbe-46a0-a424-fa34a5350f9b"
   },
   "outputs": [
    {
     "name": "stdout",
     "output_type": "stream",
     "text": [
      "Stand error of Sampling distribution: 0.2679570114775875\n",
      "Population standarad deviation: 3.858096389412789\n"
     ]
    }
   ],
   "source": [
    "\n",
    "print('Stand error of Sampling distribution:',np.std(sample_mean))\n",
    "print('Population standarad deviation:',np.std(pop))"
   ]
  },
  {
   "cell_type": "code",
   "execution_count": null,
   "metadata": {
    "id": "fbZT9_nXv40k",
    "outputId": "90eee8dd-49c4-4261-fe53-d9c92251c5a1"
   },
   "outputs": [
    {
     "name": "stdout",
     "output_type": "stream",
     "text": [
      "Stand error of Sampling distribution: 0.2679570114775875\n",
      "Population standarad deviation/sqrt(sample size): 0.27280861194251177\n"
     ]
    }
   ],
   "source": [
    "print('Stand error of Sampling distribution:',np.std(sample_mean))\n",
    "print('Population standarad deviation/sqrt(sample size):',np.std(pop)/np.sqrt(sample_size))"
   ]
  },
  {
   "cell_type": "code",
   "execution_count": null,
   "metadata": {
    "id": "EgIvOADDv40k",
    "outputId": "d62f9062-e544-4cfd-d6a4-b73bacdffccb"
   },
   "outputs": [
    {
     "name": "stdout",
     "output_type": "stream",
     "text": [
      "Mean of Sampling distribution: 27.215200000000003\n",
      "Mean of Population: 27.2315\n"
     ]
    }
   ],
   "source": [
    "print('Mean of Sampling distribution:',np.mean(sample_mean))\n",
    "print('Mean of Population:',np.mean(pop))"
   ]
  },
  {
   "cell_type": "code",
   "execution_count": null,
   "metadata": {
    "id": "WYHZRyp_xucN"
   },
   "outputs": [],
   "source": []
  },
  {
   "cell_type": "code",
   "execution_count": null,
   "metadata": {
    "id": "vEAF9gp3v40l"
   },
   "outputs": [],
   "source": [
    "# Standard error is inversely proportional to sample size. Standard error tends to decrease when \n",
    "# there is a increase in the sample size.\n",
    "\n",
    "# Also, if n increases the sample tends to population. So the mean values of samples will be closer\n",
    "# to population mean which tends to a decrease in standard deviation of sampling distribution."
   ]
  },
  {
   "cell_type": "markdown",
   "metadata": {
    "id": "40ZoEFrGv40l"
   },
   "source": [
    "**b)\tIs there any evidence that the players overall rating is greater than 80?**"
   ]
  },
  {
   "cell_type": "code",
   "execution_count": null,
   "metadata": {
    "id": "JWarm9t7v40l",
    "outputId": "cbda641f-8924-4423-d040-6ae62c77baf2"
   },
   "outputs": [
    {
     "name": "stdout",
     "output_type": "stream",
     "text": [
      "Test Statistic: 0.8525537848472595\n",
      "p_value: 1.0221183102662362e-39\n"
     ]
    }
   ],
   "source": [
    "# Test of Normality \n",
    "\n",
    "# Ho: Data is not normal\n",
    "# Ha : Data is normal\n",
    "print('Test Statistic:',stats.shapiro(fifa['Overall_rating'])[0])\n",
    "print('p_value:',stats.shapiro(fifa['Overall_rating'])[1])"
   ]
  },
  {
   "cell_type": "code",
   "execution_count": null,
   "metadata": {
    "id": "__s22-WHv40l"
   },
   "outputs": [],
   "source": [
    "# Since p_value < 0.05(5% Significance level). Null Hypothesis is rejected i.e Alternate Hypothesis \n",
    "# is selected. \n",
    "\n",
    "# Inference: Data is not normal."
   ]
  },
  {
   "cell_type": "code",
   "execution_count": null,
   "metadata": {
    "id": "EVzsxZ55v40l"
   },
   "outputs": [],
   "source": [
    "# Since data points does not statisfy normality. Wilcoxin one sample test is used to check whether\n",
    "# overall rating is greater than 80."
   ]
  },
  {
   "cell_type": "code",
   "execution_count": null,
   "metadata": {
    "id": "B8PZQy-Xv40l",
    "outputId": "b49dc578-954f-40be-afd6-61921c74c781"
   },
   "outputs": [
    {
     "name": "stdout",
     "output_type": "stream",
     "text": [
      "Test Statistic: 340568.5\n",
      "p_value: 1.0\n"
     ]
    }
   ],
   "source": [
    "# Wilcoxin one sample test\n",
    "\n",
    "# Ho: μ <= 80\n",
    "# Ha : μ >  80\n",
    "\n",
    "mu =80\n",
    "\n",
    "data = fifa['Overall_rating']-mu\n",
    "test = stats.wilcoxon(data,alternative='greater')\n",
    "print('Test Statistic:',test[0])\n",
    "print('p_value:',test[1])"
   ]
  },
  {
   "cell_type": "code",
   "execution_count": null,
   "metadata": {
    "id": "6HP9ySLZv40m"
   },
   "outputs": [],
   "source": [
    "# Since p_value > 0.05(5% Significance level). Null Hypothesis is not rejected i.e Alternate Hypothesis \n",
    "# is not selected. \n",
    "\n",
    "# Inference: Overall rating is less than 80."
   ]
  },
  {
   "cell_type": "markdown",
   "metadata": {
    "id": "RpmxNO6Cv40m"
   },
   "source": [
    "**c) Perform the statistical test to identify whether preferred foot has any impact on potential. Also, perform the graphical analysis.**\n",
    "\n",
    "\n"
   ]
  },
  {
   "cell_type": "code",
   "execution_count": null,
   "metadata": {
    "id": "yTI1VYm0v40m",
    "outputId": "815edcf4-0330-4128-9e63-b6bec18455cd",
    "scrolled": true
   },
   "outputs": [
    {
     "data": {
      "text/plain": [
       "Right    1534\n",
       "Left      466\n",
       "Name: Preferred Foot, dtype: int64"
      ]
     },
     "execution_count": 28,
     "metadata": {
      "tags": []
     },
     "output_type": "execute_result"
    }
   ],
   "source": [
    "fifa['Preferred Foot'].value_counts()"
   ]
  },
  {
   "cell_type": "code",
   "execution_count": null,
   "metadata": {
    "id": "GhFwBKASv40m"
   },
   "outputs": [],
   "source": [
    "fifa_left=fifa[fifa['Preferred Foot']=='Left']\n",
    "fifa_right=fifa[fifa['Preferred Foot']=='Right']"
   ]
  },
  {
   "cell_type": "code",
   "execution_count": null,
   "metadata": {
    "id": "Bf8KoOCyv40m",
    "outputId": "caae7253-0dab-4e37-a639-a26e45f77f43"
   },
   "outputs": [
    {
     "name": "stdout",
     "output_type": "stream",
     "text": [
      "Test Statistic: 0.9384800791740417\n",
      "p_value: 5.016414837142018e-28\n"
     ]
    }
   ],
   "source": [
    "# Test of Normality \n",
    "\n",
    "# Ho: Data is not normal\n",
    "# Ha : Data is normal\n",
    "\n",
    "data = fifa['Potential']\n",
    "test = stats.shapiro(data)\n",
    "print('Test Statistic:',test[0])\n",
    "print('p_value:',test[1])\n",
    "\n"
   ]
  },
  {
   "cell_type": "code",
   "execution_count": null,
   "metadata": {
    "id": "2pOCcZsQv40n",
    "outputId": "0fcb616f-6210-4609-fb1c-9673d7af2727"
   },
   "outputs": [
    {
     "name": "stdout",
     "output_type": "stream",
     "text": [
      "Test Statistic: 0.9422042369842529\n",
      "p_value: 1.7173475098594682e-12\n"
     ]
    }
   ],
   "source": [
    "\n",
    "data = fifa_left['Potential']\n",
    "test = stats.shapiro(data)\n",
    "print('Test Statistic:',test[0])\n",
    "print('p_value:',test[1])"
   ]
  },
  {
   "cell_type": "code",
   "execution_count": null,
   "metadata": {
    "id": "4YUJwccWv40n",
    "outputId": "94cc969c-1ffd-4699-bd54-aeb81558f6d9"
   },
   "outputs": [
    {
     "name": "stdout",
     "output_type": "stream",
     "text": [
      "Test Statistic: 0.9369121193885803\n",
      "p_value: 5.342442151473519e-25\n"
     ]
    }
   ],
   "source": [
    "data = fifa_right['Potential']\n",
    "test = stats.shapiro(data)\n",
    "print('Test Statistic:',test[0])\n",
    "print('p_value:',test[1])"
   ]
  },
  {
   "cell_type": "code",
   "execution_count": null,
   "metadata": {
    "id": "_kyE6_iFv40n"
   },
   "outputs": [],
   "source": [
    "# Since p_value < 0.05(5% Significance level). Null Hypothesis is rejected i.e Alternate Hypothesis \n",
    "# is selected. \n",
    "\n",
    "# Inference: Data is not normal."
   ]
  },
  {
   "cell_type": "code",
   "execution_count": null,
   "metadata": {
    "id": "VrqcAbBwv40n"
   },
   "outputs": [],
   "source": [
    "# Since data points does not statisfy normality. Mannwhtineyu is the equivalent test for unpaired\n",
    "# t test."
   ]
  },
  {
   "cell_type": "code",
   "execution_count": null,
   "metadata": {
    "id": "8HbqQw_Mv40n",
    "outputId": "a3e3a88b-7d9d-4f35-af69-1bc6aab6afbc",
    "scrolled": false
   },
   "outputs": [
    {
     "data": {
      "image/png": "[encoded data removed]",
      "text/plain": [
       "<Figure size 432x288 with 1 Axes>"
      ]
     },
     "metadata": {
      "needs_background": "light",
      "tags": []
     },
     "output_type": "display_data"
    }
   ],
   "source": [
    "# Graphical understanding:\n",
    "\n",
    "sns.kdeplot(fifa_left['Potential'],label='left_potential')\n",
    "sns.kdeplot(fifa_right['Potential'],label='right_potential')\n",
    "plt.show()\n"
   ]
  },
  {
   "cell_type": "markdown",
   "metadata": {
    "id": "fgpCKIXnv40o"
   },
   "source": [
    "Inference : No differernce in the mean"
   ]
  },
  {
   "cell_type": "code",
   "execution_count": null,
   "metadata": {
    "id": "gUXfwP1ev40o",
    "outputId": "2880a704-2495-4ae2-8b86-fac7f66439b9"
   },
   "outputs": [
    {
     "name": "stdout",
     "output_type": "stream",
     "text": [
      "Test Statistic: 344181.0\n",
      "p_value: 0.111812406208667\n"
     ]
    }
   ],
   "source": [
    "# Ho: μ_right =  μ_left (No difference in potential with respect to preffered foot)\n",
    "# Ha : μ_right ≠  μ_left  (Significant difference in potential with respect to preffered foot)\n",
    "\n",
    "\n",
    "test = stats.mannwhitneyu(fifa_right['Potential'],fifa_left['Potential'])\n",
    "print('Test Statistic:',test[0])\n",
    "print('p_value:',test[1])\n",
    "\n"
   ]
  },
  {
   "cell_type": "code",
   "execution_count": null,
   "metadata": {
    "id": "YGP8Bl6ov40o"
   },
   "outputs": [],
   "source": [
    "# Since p_value > 0.05(5% Significance level). Null Hypothesis is not rejected i.e Alternate Hypothesis \n",
    "# is not selected. \n",
    "\n",
    "# Inference: No difference is potential with respect to preffered foot."
   ]
  },
  {
   "cell_type": "markdown",
   "metadata": {
    "id": "I2dwv-zXv40o"
   },
   "source": [
    "**d)\tPerform the statistical test to identify the relation between the overall rating and potential. [Assume both are continuous data points].**"
   ]
  },
  {
   "cell_type": "code",
   "execution_count": null,
   "metadata": {
    "id": "pdbfuQWQv40o",
    "outputId": "d15bdc11-27f2-44c0-9706-545c084a7a08"
   },
   "outputs": [
    {
     "name": "stdout",
     "output_type": "stream",
     "text": [
      "Test Statistic: 0.8525537848472595\n",
      "p_value: 1.0221183102662362e-39\n"
     ]
    }
   ],
   "source": [
    "# Test of Normality \n",
    "\n",
    "# Ho: Data is not normal\n",
    "# Ha : Data is normal\n",
    "\n",
    "data = fifa['Overall_rating']\n",
    "test = stats.shapiro(data)\n",
    "print('Test Statistic:',test[0])\n",
    "print('p_value:',test[1])\n",
    "\n"
   ]
  },
  {
   "cell_type": "code",
   "execution_count": null,
   "metadata": {
    "id": "_pET-NSSv40o"
   },
   "outputs": [],
   "source": [
    "# Since p_value < 0.05(5% Significance level). Null Hypothesis is rejected i.e Alternate Hypothesis \n",
    "# is selected. \n",
    "\n",
    "# Inference: Data is not normal."
   ]
  },
  {
   "cell_type": "code",
   "execution_count": null,
   "metadata": {
    "id": "A0bW2d8Wv40p",
    "outputId": "160aa211-b5ea-4c7a-a755-39ac21d9eaeb"
   },
   "outputs": [
    {
     "name": "stdout",
     "output_type": "stream",
     "text": [
      "Test Statistic: 0.9384800791740417\n",
      "p_value: 5.016414837142018e-28\n"
     ]
    }
   ],
   "source": [
    "# Test of Normality \n",
    "# Ho: Data is not normal\n",
    "# Ha : Data is normal\n",
    "\n",
    "data = fifa['Potential']\n",
    "test = stats.shapiro(data)\n",
    "print('Test Statistic:',test[0])\n",
    "print('p_value:',test[1])\n",
    "\n"
   ]
  },
  {
   "cell_type": "code",
   "execution_count": null,
   "metadata": {
    "id": "yK2-bOu3v40p"
   },
   "outputs": [],
   "source": [
    "# Since p_value < 0.05(5% Significance level). Null Hypothesis is rejected i.e Alternate Hypothesis \n",
    "# is selected. \n",
    "\n",
    "# Inference: Data is not normal."
   ]
  },
  {
   "cell_type": "code",
   "execution_count": null,
   "metadata": {
    "id": "nHO0JMe6v40p"
   },
   "outputs": [],
   "source": [
    "# Since the both the columns are not normal. To check the correlation, spearmanr statistical\n",
    "# test needs to be used."
   ]
  },
  {
   "cell_type": "code",
   "execution_count": null,
   "metadata": {
    "id": "n7nxdWJ5v40q",
    "outputId": "0b6d77f3-64da-4f1e-f328-2d306e89ae65"
   },
   "outputs": [
    {
     "name": "stdout",
     "output_type": "stream",
     "text": [
      "Test Statistic: 0.6904482380449665\n",
      "p_value: 2.6831262205531135e-283\n"
     ]
    }
   ],
   "source": [
    "# Ho: r = 0 (No correlation between Overall rating and Potential)\n",
    "# Ha : r ≠ 0  (There exsist correlation between Overall rating and Potential)\n",
    "\n",
    "\n",
    "test = stats.spearmanr(fifa['Overall_rating'],fifa['Potential'])\n",
    "print('Test Statistic:',test[0])\n",
    "print('p_value:',test[1])\n",
    "\n"
   ]
  },
  {
   "cell_type": "code",
   "execution_count": null,
   "metadata": {
    "id": "v0RHylzLv40q"
   },
   "outputs": [],
   "source": [
    "# Since p_value < 0.05(5% Significance level). Null Hypothesis is rejected i.e Alternate Hypothesis \n",
    "# is selected. \n",
    "\n",
    "# Inference: Correlation between Overall rating and Potential."
   ]
  },
  {
   "cell_type": "markdown",
   "metadata": {
    "id": "x70KesBTv40q"
   },
   "source": [
    "**e) Does \"skill move\" and \"week foot\" has any effect in overall rating. Perform the graphical analysis and the statistical analysis.**"
   ]
  },
  {
   "cell_type": "code",
   "execution_count": null,
   "metadata": {
    "id": "V9HmyBTTv40q",
    "outputId": "59de6827-3a31-4d5f-f6e9-23be6f917a31"
   },
   "outputs": [
    {
     "data": {
      "text/plain": [
       "3    828\n",
       "4    544\n",
       "2    395\n",
       "1    194\n",
       "5     39\n",
       "Name: Skill Moves, dtype: int64"
      ]
     },
     "execution_count": 45,
     "metadata": {
      "tags": []
     },
     "output_type": "execute_result"
    }
   ],
   "source": [
    "fifa['Skill Moves'].value_counts()"
   ]
  },
  {
   "cell_type": "code",
   "execution_count": null,
   "metadata": {
    "id": "4Zc8DI7Gv40q"
   },
   "outputs": [],
   "source": [
    "skm_1=fifa[fifa['Skill Moves']==1]['Overall_rating']\n",
    "skm_2=fifa[fifa['Skill Moves']==2]['Overall_rating']\n",
    "skm_3=fifa[fifa['Skill Moves']==3]['Overall_rating']\n",
    "skm_4=fifa[fifa['Skill Moves']==4]['Overall_rating']\n",
    "skm_5=fifa[fifa['Skill Moves']==5]['Overall_rating']"
   ]
  },
  {
   "cell_type": "code",
   "execution_count": null,
   "metadata": {
    "id": "t2M8cQ7Ov40r",
    "outputId": "e73f5668-dfb3-46cb-dc0b-3162ba3caf0e"
   },
   "outputs": [
    {
     "name": "stdout",
     "output_type": "stream",
     "text": [
      "Test Statistic: 0.8525537848472595\n",
      "p_value: 1.0221183102662362e-39\n"
     ]
    }
   ],
   "source": [
    "# Test of Normality \n",
    "\n",
    "# Ho: Data is not normal\n",
    "# Ha : Data is normal\n",
    "\n",
    "data = fifa['Overall_rating']\n",
    "test = stats.shapiro(data)\n",
    "print('Test Statistic:',test[0])\n",
    "print('p_value:',test[1])\n"
   ]
  },
  {
   "cell_type": "code",
   "execution_count": null,
   "metadata": {
    "id": "Etx-260Lv40r"
   },
   "outputs": [],
   "source": [
    "# Since p_value < 0.05(5% Significance level). Null Hypothesis is rejected i.e Alternate Hypothesis \n",
    "# is selected. \n",
    "\n",
    "# Inference: Data is not normal."
   ]
  },
  {
   "cell_type": "code",
   "execution_count": null,
   "metadata": {
    "id": "sxhR_lBpv40r"
   },
   "outputs": [],
   "source": [
    "# Since data is not normal. kruskal test needs to be performed."
   ]
  },
  {
   "cell_type": "code",
   "execution_count": null,
   "metadata": {
    "id": "IztGX7zzv40r",
    "outputId": "ff7557df-104d-44fb-d3b4-daf17214b0f1",
    "scrolled": true
   },
   "outputs": [
    {
     "data": {
      "image/png": "[encoded data removed]",
      "text/plain": [
       "<Figure size 432x288 with 1 Axes>"
      ]
     },
     "metadata": {
      "needs_background": "light",
      "tags": []
     },
     "output_type": "display_data"
    }
   ],
   "source": [
    "# Graphical Understanding:\n",
    "\n",
    "sns.kdeplot(skm_1,label='Skill move 1')\n",
    "sns.kdeplot(skm_2,label='Skill move 2')\n",
    "sns.kdeplot(skm_3,label='Skill move 3')\n",
    "sns.kdeplot(skm_4,label='Skill move 4')\n",
    "sns.kdeplot(skm_5,label='Skill move 5')\n",
    "plt.show()\n"
   ]
  },
  {
   "cell_type": "code",
   "execution_count": null,
   "metadata": {
    "id": "-2qtoYKrv40s"
   },
   "outputs": [],
   "source": [
    "# Inference: Skill move 5 is significantly different from other skill moves."
   ]
  },
  {
   "cell_type": "code",
   "execution_count": null,
   "metadata": {
    "id": "lq-M38-Wv40s",
    "outputId": "1e5cda47-891c-4e86-aeb9-c119ea9c1834"
   },
   "outputs": [
    {
     "name": "stdout",
     "output_type": "stream",
     "text": [
      "Test Statistic: 93.97620603568315\n",
      "p_value: 1.8813072396371804e-19\n"
     ]
    }
   ],
   "source": [
    "# Ho: All the skill moves ratings are equal \n",
    "#     (No difference in overall rating with respect to skillmove)\n",
    "\n",
    "\n",
    "# Ha: Atleast one of the skill moves ratings is different \n",
    "#     (Difference in overall rating with respect to skillmove)\n",
    "\n",
    "\n",
    "\n",
    "test = stats.kruskal(skm_1,skm_2,skm_3,skm_4,skm_4)\n",
    "print('Test Statistic:',test[0])\n",
    "print('p_value:',test[1])\n"
   ]
  },
  {
   "cell_type": "code",
   "execution_count": null,
   "metadata": {
    "id": "IrCb5cdev40s"
   },
   "outputs": [],
   "source": [
    "# Since p_value < 0.05(5% Significance level). Null Hypothesis is rejected i.e Alternate Hypothesis \n",
    "# is selected. \n",
    "\n",
    "# Inference: Difference is overall rating with respect to skillmoves.\n",
    "\n",
    "# Further post_hoc analysis is required to find which skillmove is different."
   ]
  },
  {
   "cell_type": "markdown",
   "metadata": {
    "id": "pf2GnJfpv40s"
   },
   "source": [
    "**2. Perform of the following statistical analysis on the mobile network dataset given. The given data set contains information about the internet, calls, messages of various network. Data Cleaning and basic EDA process needs to be performed.** \n",
    "\n",
    "a) With 95% & 99% Confidence Interval find the range estimate of average duration calls made by all the network. Which of the Intervals are wider? Interpret the results.\n",
    "\n",
    "b) Perform the statistical analysis to check whether the networks are equally distributed in the dataset.\n",
    "\n",
    "c) Plot the distribution of duration with respect each network in the same graph and Interpret the results from the graph.\n",
    "\n",
    "d)\tPerform the statistical test to identify the relation between item and duration. Detailed \n",
    "explanation of relation between the classes is required.\n",
    "\n",
    "e)\tPerform the statistical test to identify the relation between network and network_type. \n",
    "\n",
    "Note: \n",
    "1) Perform all the Statistical analysis with 5%(Significance level). \n",
    "2) Perform the test of normality and test of variance in the appropriate places.\n"
   ]
  },
  {
   "cell_type": "code",
   "execution_count": null,
   "metadata": {
    "id": "_zNAB3ytv40s",
    "outputId": "8579b8ab-b06e-4a9a-af5f-1f241ea5e1ff",
    "scrolled": true
   },
   "outputs": [
    {
     "data": {
      "text/html": [
       "<div>\n",
       "<style scoped>\n",
       "    .dataframe tbody tr th:only-of-type {\n",
       "        vertical-align: middle;\n",
       "    }\n",
       "\n",
       "    .dataframe tbody tr th {\n",
       "        vertical-align: top;\n",
       "    }\n",
       "\n",
       "    .dataframe thead th {\n",
       "        text-align: right;\n",
       "    }\n",
       "</style>\n",
       "<table border=\"1\" class=\"dataframe\">\n",
       "  <thead>\n",
       "    <tr style=\"text-align: right;\">\n",
       "      <th></th>\n",
       "      <th>date</th>\n",
       "      <th>duration</th>\n",
       "      <th>item</th>\n",
       "      <th>month</th>\n",
       "      <th>network</th>\n",
       "      <th>network_type</th>\n",
       "    </tr>\n",
       "  </thead>\n",
       "  <tbody>\n",
       "    <tr>\n",
       "      <th>0</th>\n",
       "      <td>15-10-14 6:58</td>\n",
       "      <td>221.321120</td>\n",
       "      <td>data</td>\n",
       "      <td>2014-11</td>\n",
       "      <td>data</td>\n",
       "      <td>data</td>\n",
       "    </tr>\n",
       "    <tr>\n",
       "      <th>1</th>\n",
       "      <td>15-10-14 6:58</td>\n",
       "      <td>81.610599</td>\n",
       "      <td>call</td>\n",
       "      <td>2014-11</td>\n",
       "      <td>Vodafone</td>\n",
       "      <td>mobile</td>\n",
       "    </tr>\n",
       "    <tr>\n",
       "      <th>2</th>\n",
       "      <td>15-10-14 14:46</td>\n",
       "      <td>143.109111</td>\n",
       "      <td>call</td>\n",
       "      <td>2014-11</td>\n",
       "      <td>Meteor</td>\n",
       "      <td>mobile</td>\n",
       "    </tr>\n",
       "    <tr>\n",
       "      <th>3</th>\n",
       "      <td>15-10-14 14:48</td>\n",
       "      <td>111.888670</td>\n",
       "      <td>call</td>\n",
       "      <td>2014-11</td>\n",
       "      <td>Tesco</td>\n",
       "      <td>mobile</td>\n",
       "    </tr>\n",
       "    <tr>\n",
       "      <th>4</th>\n",
       "      <td>15-10-14 17:27</td>\n",
       "      <td>246.695171</td>\n",
       "      <td>call</td>\n",
       "      <td>2014-11</td>\n",
       "      <td>Tesco</td>\n",
       "      <td>mobile</td>\n",
       "    </tr>\n",
       "    <tr>\n",
       "      <th>...</th>\n",
       "      <td>...</td>\n",
       "      <td>...</td>\n",
       "      <td>...</td>\n",
       "      <td>...</td>\n",
       "      <td>...</td>\n",
       "      <td>...</td>\n",
       "    </tr>\n",
       "    <tr>\n",
       "      <th>815</th>\n",
       "      <td>10-03-15 6:58</td>\n",
       "      <td>185.328156</td>\n",
       "      <td>data</td>\n",
       "      <td>2015-03</td>\n",
       "      <td>data</td>\n",
       "      <td>data</td>\n",
       "    </tr>\n",
       "    <tr>\n",
       "      <th>816</th>\n",
       "      <td>11-03-15 6:58</td>\n",
       "      <td>89.819383</td>\n",
       "      <td>data</td>\n",
       "      <td>2015-03</td>\n",
       "      <td>data</td>\n",
       "      <td>data</td>\n",
       "    </tr>\n",
       "    <tr>\n",
       "      <th>817</th>\n",
       "      <td>12-03-15 6:58</td>\n",
       "      <td>117.604998</td>\n",
       "      <td>data</td>\n",
       "      <td>2015-03</td>\n",
       "      <td>data</td>\n",
       "      <td>data</td>\n",
       "    </tr>\n",
       "    <tr>\n",
       "      <th>818</th>\n",
       "      <td>13-03-15 0:39</td>\n",
       "      <td>77.834006</td>\n",
       "      <td>sms</td>\n",
       "      <td>2015-03</td>\n",
       "      <td>Vodafone</td>\n",
       "      <td>mobile</td>\n",
       "    </tr>\n",
       "    <tr>\n",
       "      <th>819</th>\n",
       "      <td>13-03-15 6:58</td>\n",
       "      <td>146.000584</td>\n",
       "      <td>data</td>\n",
       "      <td>2015-03</td>\n",
       "      <td>data</td>\n",
       "      <td>data</td>\n",
       "    </tr>\n",
       "  </tbody>\n",
       "</table>\n",
       "<p>820 rows × 6 columns</p>\n",
       "</div>"
      ],
      "text/plain": [
       "               date    duration  item    month   network network_type\n",
       "0     15-10-14 6:58  221.321120  data  2014-11      data         data\n",
       "1     15-10-14 6:58   81.610599  call  2014-11  Vodafone       mobile\n",
       "2    15-10-14 14:46  143.109111  call  2014-11    Meteor       mobile\n",
       "3    15-10-14 14:48  111.888670  call  2014-11     Tesco       mobile\n",
       "4    15-10-14 17:27  246.695171  call  2014-11     Tesco       mobile\n",
       "..              ...         ...   ...      ...       ...          ...\n",
       "815   10-03-15 6:58  185.328156  data  2015-03      data         data\n",
       "816   11-03-15 6:58   89.819383  data  2015-03      data         data\n",
       "817   12-03-15 6:58  117.604998  data  2015-03      data         data\n",
       "818   13-03-15 0:39   77.834006   sms  2015-03  Vodafone       mobile\n",
       "819   13-03-15 6:58  146.000584  data  2015-03      data         data\n",
       "\n",
       "[820 rows x 6 columns]"
      ]
     },
     "execution_count": 83,
     "metadata": {
      "tags": []
     },
     "output_type": "execute_result"
    }
   ],
   "source": [
    "phone=pd.read_csv('phone.csv')\n",
    "phone"
   ]
  },
  {
   "cell_type": "markdown",
   "metadata": {
    "id": "v4XVBZPpv40s"
   },
   "source": [
    "### Description About the Dataset"
   ]
  },
  {
   "cell_type": "code",
   "execution_count": null,
   "metadata": {
    "id": "rQiYEDFfv40s",
    "outputId": "5123f419-cb93-430e-837a-b03092a91bf7"
   },
   "outputs": [
    {
     "name": "stdout",
     "output_type": "stream",
     "text": [
      "<class 'pandas.core.frame.DataFrame'>\n",
      "RangeIndex: 820 entries, 0 to 819\n",
      "Data columns (total 6 columns):\n",
      "date            820 non-null object\n",
      "duration        820 non-null float64\n",
      "item            820 non-null object\n",
      "month           820 non-null object\n",
      "network         820 non-null object\n",
      "network_type    820 non-null object\n",
      "dtypes: float64(1), object(5)\n",
      "memory usage: 38.6+ KB\n"
     ]
    }
   ],
   "source": [
    "phone.info()"
   ]
  },
  {
   "cell_type": "code",
   "execution_count": null,
   "metadata": {
    "id": "6T6AeiGZv40t",
    "outputId": "bf785c2f-e07d-47b8-89c6-83c0930b70ed",
    "scrolled": true
   },
   "outputs": [
    {
     "data": {
      "text/html": [
       "<div>\n",
       "<style scoped>\n",
       "    .dataframe tbody tr th:only-of-type {\n",
       "        vertical-align: middle;\n",
       "    }\n",
       "\n",
       "    .dataframe tbody tr th {\n",
       "        vertical-align: top;\n",
       "    }\n",
       "\n",
       "    .dataframe thead th {\n",
       "        text-align: right;\n",
       "    }\n",
       "</style>\n",
       "<table border=\"1\" class=\"dataframe\">\n",
       "  <thead>\n",
       "    <tr style=\"text-align: right;\">\n",
       "      <th></th>\n",
       "      <th>date</th>\n",
       "      <th>duration</th>\n",
       "      <th>item</th>\n",
       "      <th>month</th>\n",
       "      <th>network</th>\n",
       "      <th>network_type</th>\n",
       "    </tr>\n",
       "  </thead>\n",
       "  <tbody>\n",
       "    <tr>\n",
       "      <th>count</th>\n",
       "      <td>820</td>\n",
       "      <td>820.000000</td>\n",
       "      <td>820</td>\n",
       "      <td>820</td>\n",
       "      <td>820</td>\n",
       "      <td>820</td>\n",
       "    </tr>\n",
       "    <tr>\n",
       "      <th>unique</th>\n",
       "      <td>738</td>\n",
       "      <td>NaN</td>\n",
       "      <td>3</td>\n",
       "      <td>5</td>\n",
       "      <td>7</td>\n",
       "      <td>4</td>\n",
       "    </tr>\n",
       "    <tr>\n",
       "      <th>top</th>\n",
       "      <td>16-01-15 18:07</td>\n",
       "      <td>NaN</td>\n",
       "      <td>call</td>\n",
       "      <td>2014-11</td>\n",
       "      <td>Vodafone</td>\n",
       "      <td>mobile</td>\n",
       "    </tr>\n",
       "    <tr>\n",
       "      <th>freq</th>\n",
       "      <td>6</td>\n",
       "      <td>NaN</td>\n",
       "      <td>388</td>\n",
       "      <td>229</td>\n",
       "      <td>215</td>\n",
       "      <td>601</td>\n",
       "    </tr>\n",
       "    <tr>\n",
       "      <th>mean</th>\n",
       "      <td>NaN</td>\n",
       "      <td>144.304936</td>\n",
       "      <td>NaN</td>\n",
       "      <td>NaN</td>\n",
       "      <td>NaN</td>\n",
       "      <td>NaN</td>\n",
       "    </tr>\n",
       "    <tr>\n",
       "      <th>std</th>\n",
       "      <td>NaN</td>\n",
       "      <td>45.687777</td>\n",
       "      <td>NaN</td>\n",
       "      <td>NaN</td>\n",
       "      <td>NaN</td>\n",
       "      <td>NaN</td>\n",
       "    </tr>\n",
       "    <tr>\n",
       "      <th>min</th>\n",
       "      <td>NaN</td>\n",
       "      <td>0.993514</td>\n",
       "      <td>NaN</td>\n",
       "      <td>NaN</td>\n",
       "      <td>NaN</td>\n",
       "      <td>NaN</td>\n",
       "    </tr>\n",
       "    <tr>\n",
       "      <th>25%</th>\n",
       "      <td>NaN</td>\n",
       "      <td>112.916486</td>\n",
       "      <td>NaN</td>\n",
       "      <td>NaN</td>\n",
       "      <td>NaN</td>\n",
       "      <td>NaN</td>\n",
       "    </tr>\n",
       "    <tr>\n",
       "      <th>50%</th>\n",
       "      <td>NaN</td>\n",
       "      <td>144.179434</td>\n",
       "      <td>NaN</td>\n",
       "      <td>NaN</td>\n",
       "      <td>NaN</td>\n",
       "      <td>NaN</td>\n",
       "    </tr>\n",
       "    <tr>\n",
       "      <th>75%</th>\n",
       "      <td>NaN</td>\n",
       "      <td>175.932308</td>\n",
       "      <td>NaN</td>\n",
       "      <td>NaN</td>\n",
       "      <td>NaN</td>\n",
       "      <td>NaN</td>\n",
       "    </tr>\n",
       "    <tr>\n",
       "      <th>max</th>\n",
       "      <td>NaN</td>\n",
       "      <td>268.458090</td>\n",
       "      <td>NaN</td>\n",
       "      <td>NaN</td>\n",
       "      <td>NaN</td>\n",
       "      <td>NaN</td>\n",
       "    </tr>\n",
       "  </tbody>\n",
       "</table>\n",
       "</div>"
      ],
      "text/plain": [
       "                  date    duration  item    month   network network_type\n",
       "count              820  820.000000   820      820       820          820\n",
       "unique             738         NaN     3        5         7            4\n",
       "top     16-01-15 18:07         NaN  call  2014-11  Vodafone       mobile\n",
       "freq                 6         NaN   388      229       215          601\n",
       "mean               NaN  144.304936   NaN      NaN       NaN          NaN\n",
       "std                NaN   45.687777   NaN      NaN       NaN          NaN\n",
       "min                NaN    0.993514   NaN      NaN       NaN          NaN\n",
       "25%                NaN  112.916486   NaN      NaN       NaN          NaN\n",
       "50%                NaN  144.179434   NaN      NaN       NaN          NaN\n",
       "75%                NaN  175.932308   NaN      NaN       NaN          NaN\n",
       "max                NaN  268.458090   NaN      NaN       NaN          NaN"
      ]
     },
     "execution_count": 56,
     "metadata": {
      "tags": []
     },
     "output_type": "execute_result"
    }
   ],
   "source": [
    "phone.describe(include='all')"
   ]
  },
  {
   "cell_type": "markdown",
   "metadata": {
    "id": "xAcDaOk7v40t"
   },
   "source": [
    "### Handling Null Values"
   ]
  },
  {
   "cell_type": "code",
   "execution_count": null,
   "metadata": {
    "id": "cDcFTt_mv40t",
    "outputId": "833be80a-d48d-438c-d376-5b5776695a51"
   },
   "outputs": [
    {
     "data": {
      "text/plain": [
       "date            0\n",
       "duration        0\n",
       "item            0\n",
       "month           0\n",
       "network         0\n",
       "network_type    0\n",
       "dtype: int64"
      ]
     },
     "execution_count": 57,
     "metadata": {
      "tags": []
     },
     "output_type": "execute_result"
    }
   ],
   "source": [
    "# null values\n",
    "phone.isna().sum() "
   ]
  },
  {
   "cell_type": "markdown",
   "metadata": {
    "id": "djA7ze2zv40t"
   },
   "source": [
    "**a) With 95% & 99% Confidence Interval find the range estimate of average duration calls made by all the network. Which of the Intervals are wider? Interpret the results.**"
   ]
  },
  {
   "cell_type": "code",
   "execution_count": null,
   "metadata": {
    "id": "erbdpmXOv40t",
    "outputId": "3a3ae71a-4e19-4648-e50e-a1d55191649d",
    "scrolled": true
   },
   "outputs": [
    {
     "name": "stdout",
     "output_type": "stream",
     "text": [
      "Test Statistic: 0.9984679818153381\n",
      "p_value: 0.701244592666626\n"
     ]
    }
   ],
   "source": [
    "# Test of Normality \n",
    "\n",
    "# Ho: Data is not normal\n",
    "# Ha : Data is normal\n",
    "\n",
    "data = phone['duration']\n",
    "test = stats.shapiro(data)\n",
    "print('Test Statistic:',test[0])\n",
    "print('p_value:',test[1])\n"
   ]
  },
  {
   "cell_type": "code",
   "execution_count": null,
   "metadata": {
    "id": "bAIQMeNQv40t"
   },
   "outputs": [],
   "source": [
    "# Since p_value > 0.05(5% Significance level). Null Hypothesis is not rejected i.e \n",
    "#Alternate Hypothesis is not elected. \n",
    "\n",
    "# Inference: Data is normal."
   ]
  },
  {
   "cell_type": "code",
   "execution_count": null,
   "metadata": {
    "id": "04N9bdf1v40u"
   },
   "outputs": [],
   "source": [
    "# Confidence interval can be performed."
   ]
  },
  {
   "cell_type": "code",
   "execution_count": null,
   "metadata": {
    "id": "9t59Us_tv40u",
    "outputId": "cb89e250-d607-4130-ff35-f60ae92d02bb"
   },
   "outputs": [
    {
     "name": "stdout",
     "output_type": "stream",
     "text": [
      "For 95% Confidence Interval: (141.17783972883012, 147.43203139084062)\n"
     ]
    }
   ],
   "source": [
    "data=phone['duration']\n",
    "mu = np.mean(data)\n",
    "sigma = np.std(data,ddof=1)/np.sqrt(len(data))\n",
    "print('For 95% Confidence Interval:',stats.norm.interval(0.95, loc=mu, scale=sigma))"
   ]
  },
  {
   "cell_type": "code",
   "execution_count": null,
   "metadata": {
    "id": "PtxZYkXqv40u",
    "outputId": "6a63d985-a617-4f59-a12a-d0813af41a37"
   },
   "outputs": [
    {
     "name": "stdout",
     "output_type": "stream",
     "text": [
      "For 99% Confidence Interval: (140.1952350040881, 148.41463611558265)\n"
     ]
    }
   ],
   "source": [
    "data=phone['duration']\n",
    "mu = np.mean(data)\n",
    "sigma = np.std(data,ddof=1)/np.sqrt(len(data))\n",
    "print('For 99% Confidence Interval:',stats.norm.interval(0.99, loc=mu, scale=sigma))"
   ]
  },
  {
   "cell_type": "code",
   "execution_count": null,
   "metadata": {
    "id": "qLZtJMtHv40u"
   },
   "outputs": [],
   "source": [
    "# Inference:\n",
    "#         Increase in level of confidence,range of the interval increases.\n",
    "# Intutively,when the range is high, there is a high chance that population mean lies in betweeen the\n",
    "# interval."
   ]
  },
  {
   "cell_type": "markdown",
   "metadata": {
    "id": "zSK43Kgiv40u"
   },
   "source": [
    "**b) Perform the statistical analysis to check whether the networks are equally distributed in the dataset.**"
   ]
  },
  {
   "cell_type": "code",
   "execution_count": null,
   "metadata": {
    "id": "_H1aHdbxv40u",
    "outputId": "20c73120-6445-44ae-a482-5e85d4cdbb81"
   },
   "outputs": [
    {
     "data": {
      "text/html": [
       "<div>\n",
       "<style scoped>\n",
       "    .dataframe tbody tr th:only-of-type {\n",
       "        vertical-align: middle;\n",
       "    }\n",
       "\n",
       "    .dataframe tbody tr th {\n",
       "        vertical-align: top;\n",
       "    }\n",
       "\n",
       "    .dataframe thead th {\n",
       "        text-align: right;\n",
       "    }\n",
       "</style>\n",
       "<table border=\"1\" class=\"dataframe\">\n",
       "  <thead>\n",
       "    <tr style=\"text-align: right;\">\n",
       "      <th></th>\n",
       "      <th>network</th>\n",
       "      <th>network_exp</th>\n",
       "    </tr>\n",
       "  </thead>\n",
       "  <tbody>\n",
       "    <tr>\n",
       "      <th>Vodafone</th>\n",
       "      <td>215</td>\n",
       "      <td>117.142857</td>\n",
       "    </tr>\n",
       "    <tr>\n",
       "      <th>Three</th>\n",
       "      <td>215</td>\n",
       "      <td>117.142857</td>\n",
       "    </tr>\n",
       "    <tr>\n",
       "      <th>data</th>\n",
       "      <td>150</td>\n",
       "      <td>117.142857</td>\n",
       "    </tr>\n",
       "    <tr>\n",
       "      <th>Meteor</th>\n",
       "      <td>87</td>\n",
       "      <td>117.142857</td>\n",
       "    </tr>\n",
       "    <tr>\n",
       "      <th>Tesco</th>\n",
       "      <td>84</td>\n",
       "      <td>117.142857</td>\n",
       "    </tr>\n",
       "    <tr>\n",
       "      <th>landline</th>\n",
       "      <td>42</td>\n",
       "      <td>117.142857</td>\n",
       "    </tr>\n",
       "    <tr>\n",
       "      <th>voicemail</th>\n",
       "      <td>27</td>\n",
       "      <td>117.142857</td>\n",
       "    </tr>\n",
       "  </tbody>\n",
       "</table>\n",
       "</div>"
      ],
      "text/plain": [
       "           network  network_exp\n",
       "Vodafone       215   117.142857\n",
       "Three          215   117.142857\n",
       "data           150   117.142857\n",
       "Meteor          87   117.142857\n",
       "Tesco           84   117.142857\n",
       "landline        42   117.142857\n",
       "voicemail       27   117.142857"
      ]
     },
     "execution_count": 64,
     "metadata": {
      "tags": []
     },
     "output_type": "execute_result"
    }
   ],
   "source": [
    "count = pd.DataFrame(phone['network'].value_counts())\n",
    "\n",
    "count['network_exp']=phone['network'].value_counts().mean()\n",
    "count"
   ]
  },
  {
   "cell_type": "code",
   "execution_count": null,
   "metadata": {
    "id": "4zXVAyw5v40v",
    "outputId": "4ab9c38e-412e-4302-fb12-8de5d35b1d1b",
    "scrolled": false
   },
   "outputs": [
    {
     "name": "stdout",
     "output_type": "stream",
     "text": [
      "Test Statistic: 307.409756097561\n",
      "p_value: 2.112592760257685e-63\n"
     ]
    }
   ],
   "source": [
    "# Ho: Observed = Expected  (Networks are equally distributed)\n",
    "# Ha : Observed  ≠ Expected  (Networks are not equally distributed)\n",
    "\n",
    "\n",
    "test = stats.chisquare(f_obs=count['network'],f_exp=count['network_exp'])\n",
    "print('Test Statistic:',test[0])\n",
    "print('p_value:',test[1])\n",
    "\n"
   ]
  },
  {
   "cell_type": "code",
   "execution_count": null,
   "metadata": {
    "id": "RDinYv79v40w"
   },
   "outputs": [],
   "source": [
    "# Since p_value < 0.05(5% Significance level). Null Hypothesis is rejected i.e Alternate Hypothesis \n",
    "# is selected. \n",
    "\n",
    "# Inference: Networks are not equally distributed\n",
    "\n"
   ]
  },
  {
   "cell_type": "markdown",
   "metadata": {
    "id": "9zhNIV7Jv40w"
   },
   "source": [
    "**c) Plot the distribution of duration with respect each network in the same graph and Interpret the results from the graph.**"
   ]
  },
  {
   "cell_type": "code",
   "execution_count": null,
   "metadata": {
    "id": "qvysBqVZv40x",
    "outputId": "be15c2f1-7786-4401-a908-69835d4d743d",
    "scrolled": false
   },
   "outputs": [
    {
     "data": {
      "text/plain": [
       "Vodafone     215\n",
       "Three        215\n",
       "data         150\n",
       "Meteor        87\n",
       "Tesco         84\n",
       "landline      42\n",
       "voicemail     27\n",
       "Name: network, dtype: int64"
      ]
     },
     "execution_count": 67,
     "metadata": {
      "tags": []
     },
     "output_type": "execute_result"
    }
   ],
   "source": [
    "phone['network'].value_counts()"
   ]
  },
  {
   "cell_type": "code",
   "execution_count": null,
   "metadata": {
    "id": "nfvwBE6Kv40x"
   },
   "outputs": [],
   "source": [
    "dur_vod = phone[phone['network']=='Vodafone']['duration']\n",
    "dur_three = phone[phone['network']=='Three']['duration']\n",
    "dur_data = phone[phone['network']=='data']['duration']\n",
    "dur_met = phone[phone['network']=='Meteor']['duration']\n",
    "dur_tes = phone[phone['network']=='Tesco']['duration']\n",
    "dur_land = phone[phone['network']=='landline']['duration']\n",
    "dur_voice = phone[phone['network']=='voicemail']['duration']\n"
   ]
  },
  {
   "cell_type": "code",
   "execution_count": null,
   "metadata": {
    "id": "RKL2ZNxrv40x",
    "outputId": "86c0b27a-c82c-4b90-9ecf-686e61ef3098"
   },
   "outputs": [
    {
     "data": {
      "image/png": "[encoded data removed]",
      "text/plain": [
       "<Figure size 432x288 with 1 Axes>"
      ]
     },
     "metadata": {
      "needs_background": "light",
      "tags": []
     },
     "output_type": "display_data"
    }
   ],
   "source": [
    "# Graphical Understanding:\n",
    "\n",
    "sns.kdeplot(dur_vod,label='Vodafone')\n",
    "sns.kdeplot(dur_three,label='Three')\n",
    "sns.kdeplot(dur_data,label='data')\n",
    "sns.kdeplot(dur_met,label='Meteor')\n",
    "sns.kdeplot(dur_tes,label='Tesco')\n",
    "sns.kdeplot(dur_land,label='landline')\n",
    "sns.kdeplot(dur_voice,label='voicemail')\n",
    "plt.show()\n"
   ]
  },
  {
   "cell_type": "code",
   "execution_count": null,
   "metadata": {
    "id": "8W_leYpjv40x"
   },
   "outputs": [],
   "source": [
    "# Inference :\n",
    "\n",
    "# There is no significant difference in mean duration of different networks.\n",
    "# Further Statistical test is required to conclude the results."
   ]
  },
  {
   "cell_type": "markdown",
   "metadata": {
    "id": "u9DOgaDMv40x"
   },
   "source": [
    "**d) Perform the statistical test to identify the relation between item and duration. Detailed \n",
    "explanation of relation between the classes is required.**\n"
   ]
  },
  {
   "cell_type": "code",
   "execution_count": null,
   "metadata": {
    "id": "5_BdmPJ0v40x",
    "outputId": "e981b58a-55c1-4ae3-8704-e5c0b5955e18"
   },
   "outputs": [
    {
     "data": {
      "text/plain": [
       "call    388\n",
       "sms     282\n",
       "data    150\n",
       "Name: item, dtype: int64"
      ]
     },
     "execution_count": 71,
     "metadata": {
      "tags": []
     },
     "output_type": "execute_result"
    }
   ],
   "source": [
    "phone['item'].value_counts()"
   ]
  },
  {
   "cell_type": "code",
   "execution_count": null,
   "metadata": {
    "id": "A7sJp-ZDv40y"
   },
   "outputs": [],
   "source": [
    "call = phone[phone['item']=='call']['duration']\n",
    "sms = phone[phone['item']=='sms']['duration']\n",
    "data     = phone[phone['item']=='data']['duration']"
   ]
  },
  {
   "cell_type": "code",
   "execution_count": null,
   "metadata": {
    "id": "CdOQs2uzv40y",
    "outputId": "ffd1801a-3b8a-4626-cffa-adb5f43c9501",
    "scrolled": true
   },
   "outputs": [
    {
     "name": "stdout",
     "output_type": "stream",
     "text": [
      "Test Statistic: 0.9984679818153381\n",
      "p_value: 0.701244592666626\n"
     ]
    }
   ],
   "source": [
    "# Test of Normality \n",
    "\n",
    "# Ho: Data is not normal\n",
    "# Ha : Data is normal\n",
    "\n",
    "data = phone['duration']\n",
    "test = stats.shapiro(data)\n",
    "print('Test Statistic:',test[0])\n",
    "print('p_value:',test[1])\n"
   ]
  },
  {
   "cell_type": "code",
   "execution_count": null,
   "metadata": {
    "id": "Xb8EAj4Kv40y"
   },
   "outputs": [],
   "source": [
    "# Since p_value > 0.05(5% Significance level). Null Hypothesis is not rejected i.e \n",
    "#Alternate Hypothesis is not elected. \n",
    "\n",
    "# Inference: Data is normal."
   ]
  },
  {
   "cell_type": "code",
   "execution_count": null,
   "metadata": {
    "id": "sPCr12HRv40y",
    "outputId": "d3844dfa-6c2a-4352-997f-c4182d76ba14",
    "scrolled": true
   },
   "outputs": [
    {
     "name": "stdout",
     "output_type": "stream",
     "text": [
      "Test Statistic: 0.4047619026837155\n",
      "p_value: 0.6672091150884149\n"
     ]
    }
   ],
   "source": [
    "# Test of Variance \n",
    "\n",
    "# Ho: All the variance are equal.\n",
    "# Ha : Atleast one variance is equal.\n",
    "\n",
    "\n",
    "test = stats.levene(call,sms,data)\n",
    "print('Test Statistic:',test[0])\n",
    "print('p_value:',test[1])\n"
   ]
  },
  {
   "cell_type": "code",
   "execution_count": null,
   "metadata": {
    "id": "VFsjYoHev40y"
   },
   "outputs": [],
   "source": [
    "# Since p_value > 0.05(5% Significance level). Null Hypothesis is not rejected i.e \n",
    "#Alternate Hypothesis is not selected. \n",
    "\n",
    "# Inference: All Variance are equal"
   ]
  },
  {
   "cell_type": "code",
   "execution_count": null,
   "metadata": {
    "id": "v2z-HzAIv40y"
   },
   "outputs": [],
   "source": [
    "# Since data is normal and has equal variance, One way Anova can be performed."
   ]
  },
  {
   "cell_type": "code",
   "execution_count": null,
   "metadata": {
    "id": "l5J2D6zhv40z",
    "outputId": "d22832bf-7838-4683-9d4b-a6d454d0d7b4"
   },
   "outputs": [
    {
     "name": "stdout",
     "output_type": "stream",
     "text": [
      "Test Statistic: 1.4625252371033384\n",
      "p_value: 0.23198358424446627\n"
     ]
    }
   ],
   "source": [
    "# Ho: All the durations are equal \n",
    "#     (No difference in duration with respect to item)\n",
    "\n",
    "\n",
    "# Ha: Atleast one of the durations is different\n",
    "#     (Significant difference in duration with respect to item)\n",
    "\n",
    "\n",
    "test = stats.f_oneway(call,sms,data)\n",
    "print('Test Statistic:',test[0])\n",
    "print('p_value:',test[1])"
   ]
  },
  {
   "cell_type": "code",
   "execution_count": null,
   "metadata": {
    "id": "7K2VW-vIv40z"
   },
   "outputs": [],
   "source": [
    "# Since p_value > 0.05(5% Significance level). Null Hypothesis is not rejected i.e \n",
    "#Alternate Hypothesis is not selected. \n",
    "\n",
    "# Inference: No difference in duration with respect to item"
   ]
  },
  {
   "cell_type": "markdown",
   "metadata": {
    "id": "wpyT9kqqv40z"
   },
   "source": [
    "**e) Perform the statistical test to identify the relation between network and network_type.** "
   ]
  },
  {
   "cell_type": "code",
   "execution_count": null,
   "metadata": {
    "id": "7kiGfWeov40z",
    "outputId": "6212c78e-875c-419f-fc05-f54bf98f0291"
   },
   "outputs": [
    {
     "data": {
      "text/html": [
       "<div>\n",
       "<style scoped>\n",
       "    .dataframe tbody tr th:only-of-type {\n",
       "        vertical-align: middle;\n",
       "    }\n",
       "\n",
       "    .dataframe tbody tr th {\n",
       "        vertical-align: top;\n",
       "    }\n",
       "\n",
       "    .dataframe thead th {\n",
       "        text-align: right;\n",
       "    }\n",
       "</style>\n",
       "<table border=\"1\" class=\"dataframe\">\n",
       "  <thead>\n",
       "    <tr style=\"text-align: right;\">\n",
       "      <th>network_type</th>\n",
       "      <th>data</th>\n",
       "      <th>landline</th>\n",
       "      <th>mobile</th>\n",
       "      <th>voicemail</th>\n",
       "    </tr>\n",
       "    <tr>\n",
       "      <th>network</th>\n",
       "      <th></th>\n",
       "      <th></th>\n",
       "      <th></th>\n",
       "      <th></th>\n",
       "    </tr>\n",
       "  </thead>\n",
       "  <tbody>\n",
       "    <tr>\n",
       "      <th>Meteor</th>\n",
       "      <td>0</td>\n",
       "      <td>0</td>\n",
       "      <td>87</td>\n",
       "      <td>0</td>\n",
       "    </tr>\n",
       "    <tr>\n",
       "      <th>Tesco</th>\n",
       "      <td>0</td>\n",
       "      <td>0</td>\n",
       "      <td>84</td>\n",
       "      <td>0</td>\n",
       "    </tr>\n",
       "    <tr>\n",
       "      <th>Three</th>\n",
       "      <td>0</td>\n",
       "      <td>0</td>\n",
       "      <td>215</td>\n",
       "      <td>0</td>\n",
       "    </tr>\n",
       "    <tr>\n",
       "      <th>Vodafone</th>\n",
       "      <td>0</td>\n",
       "      <td>0</td>\n",
       "      <td>215</td>\n",
       "      <td>0</td>\n",
       "    </tr>\n",
       "    <tr>\n",
       "      <th>data</th>\n",
       "      <td>150</td>\n",
       "      <td>0</td>\n",
       "      <td>0</td>\n",
       "      <td>0</td>\n",
       "    </tr>\n",
       "    <tr>\n",
       "      <th>landline</th>\n",
       "      <td>0</td>\n",
       "      <td>42</td>\n",
       "      <td>0</td>\n",
       "      <td>0</td>\n",
       "    </tr>\n",
       "    <tr>\n",
       "      <th>voicemail</th>\n",
       "      <td>0</td>\n",
       "      <td>0</td>\n",
       "      <td>0</td>\n",
       "      <td>27</td>\n",
       "    </tr>\n",
       "  </tbody>\n",
       "</table>\n",
       "</div>"
      ],
      "text/plain": [
       "network_type  data  landline  mobile  voicemail\n",
       "network                                        \n",
       "Meteor           0         0      87          0\n",
       "Tesco            0         0      84          0\n",
       "Three            0         0     215          0\n",
       "Vodafone         0         0     215          0\n",
       "data           150         0       0          0\n",
       "landline         0        42       0          0\n",
       "voicemail        0         0       0         27"
      ]
     },
     "execution_count": 80,
     "metadata": {
      "tags": []
     },
     "output_type": "execute_result"
    }
   ],
   "source": [
    "pd.crosstab(phone['network'],phone['network_type'])"
   ]
  },
  {
   "cell_type": "code",
   "execution_count": null,
   "metadata": {
    "id": "SeCirAxwv40z",
    "outputId": "2db6f77e-a031-4e95-9cd9-6a49abe80b93",
    "scrolled": false
   },
   "outputs": [
    {
     "name": "stdout",
     "output_type": "stream",
     "text": [
      "Test Statistic: 2460.0\n",
      "p_value: 0.0\n"
     ]
    }
   ],
   "source": [
    "# Ho: Observed = Expected  (Network and Network_type are not related)\n",
    "# Ha : Observed  ≠ Expected  (Network and Network_type are related)\n",
    "\n",
    "\n",
    "test = stats.chi2_contingency(pd.crosstab(phone['network'],phone['network_type']),correction=True)\n",
    "print('Test Statistic:',test[0])\n",
    "print('p_value:',test[1])\n",
    "\n"
   ]
  },
  {
   "cell_type": "code",
   "execution_count": null,
   "metadata": {
    "id": "OrzEHRkav40z"
   },
   "outputs": [],
   "source": [
    "# Since p_value < 0.05(5% Significance level). Null Hypothesis is rejected i.e Alternate Hypothesis \n",
    "# is selected. \n",
    "\n",
    "# Inference: Network and Network_type are related\n",
    "\n"
   ]
  },
  {
   "cell_type": "code",
   "execution_count": null,
   "metadata": {
    "id": "yfFj1dViv40z"
   },
   "outputs": [],
   "source": []
  }
 ],
 "metadata": {
  "colab": {
   "name": "Statistics_MiniProject_Qcied.ipynb",
   "provenance": []
  },
  "kernelspec": {
   "display_name": "Python 3",
   "language": "python",
   "name": "python3"
  },
  "language_info": {
   "codemirror_mode": {
    "name": "ipython",
    "version": 3
   },
   "file_extension": ".py",
   "mimetype": "text/x-python",
   "name": "python",
   "nbconvert_exporter": "python",
   "pygments_lexer": "ipython3",
   "version": "3.8.8"
  }
 },
 "nbformat": 4,
 "nbformat_minor": 1
}
